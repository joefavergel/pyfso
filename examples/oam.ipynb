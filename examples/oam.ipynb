{
 "cells": [
  {
   "cell_type": "markdown",
   "metadata": {},
   "source": [
    "# Simulating Orbital Angular Momentum Laser Beams \n",
    "## _pyFSO: A Python Framework for Free-Space Optical Communications_\n",
    "### Joseph F. Vergel-Becerra¹² & Z. Paola Reyes-Quijano³\n",
    "\n",
    "¹***Grupo de Física Teórica y Matemática Aplicada, Instituto de Física, Universidad de Antioquia, Medellín, Colombia***\n",
    "\n",
    "²***guane enterprises, Medellín, Colombia***\n",
    "\n",
    "³***Grupo de Óptica y Tratamiento de Señales, Escuela de Física, Universidad de Industrial de Santander, Bucaramanga, Colombia***\n",
    "\n",
    "---\n",
    "\n",
    "*The orbital angular momentum (OAM) brought with it a special interest to characterize laser beams as a consequence of multiple applications such as encode information, free space communications, among others. Specifically, in the case of optical communications, the orbital angular momentum allowed for increasing the capacity of the communication systems in free space. This increment is rooted in the topological charge of the beams.*"
   ]
  },
  {
   "cell_type": "code",
   "execution_count": null,
   "metadata": {},
   "outputs": [],
   "source": [
    "import os\n",
    "\n",
    "import numpy as np"
   ]
  },
  {
   "cell_type": "code",
   "execution_count": null,
   "metadata": {},
   "outputs": [],
   "source": [
    "try:\n",
    "    import importlib\n",
    "\n",
    "    found = False\n",
    "    while found is False:\n",
    "        os.chdir(os.path.join(os.getcwd(), os.pardir))\n",
    "        found = bool(importlib.util.find_spec(\"pyfso\"))\n",
    "        continue\n",
    "except ModuleNotFoundError as e:\n",
    "    print(\"[ERROR] Verify WORKDIR execution: \", e)"
   ]
  },
  {
   "cell_type": "code",
   "execution_count": null,
   "metadata": {},
   "outputs": [],
   "source": [
    "from pyfso.oam import BesselGauss"
   ]
  },
  {
   "cell_type": "code",
   "execution_count": null,
   "metadata": {},
   "outputs": [],
   "source": [
    "params = {\n",
    "    \"N\": 200,\n",
    "    \"L\": 5e-3,\n",
    "    \"lamb\": 532e-9,\n",
    "    \"m\": 5,\n",
    "    \"wo\": (0.57e-3) / 2,\n",
    "    \"z\": 0,\n",
    "}"
   ]
  },
  {
   "cell_type": "code",
   "execution_count": null,
   "metadata": {},
   "outputs": [],
   "source": [
    "bgb = BesselGauss(**params)\n",
    "bgb.create()\n",
    "bgb.plot_oam()"
   ]
  }
 ],
 "metadata": {
  "interpreter": {
   "hash": "b0fa6594d8f4cbf19f97940f81e996739fb7646882a419484c72d19e05852a7e"
  },
  "kernelspec": {
   "display_name": "gds",
   "language": "python",
   "name": "gds"
  },
  "language_info": {
   "codemirror_mode": {
    "name": "ipython",
    "version": 3
   },
   "file_extension": ".py",
   "mimetype": "text/x-python",
   "name": "python",
   "nbconvert_exporter": "python",
   "pygments_lexer": "ipython3",
   "version": "3.8.8"
  }
 },
 "nbformat": 4,
 "nbformat_minor": 2
}
