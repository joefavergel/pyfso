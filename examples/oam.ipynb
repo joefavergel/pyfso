{
 "metadata": {
  "language_info": {
   "codemirror_mode": {
    "name": "ipython",
    "version": 3
   },
   "file_extension": ".py",
   "mimetype": "text/x-python",
   "name": "python",
   "nbconvert_exporter": "python",
   "pygments_lexer": "ipython3",
   "version": "3.8.10"
  },
  "orig_nbformat": 4,
  "kernelspec": {
   "name": "ds",
   "display_name": "Python 3.8.10 64-bit ('ds': conda)"
  },
  "interpreter": {
   "hash": "b0fa6594d8f4cbf19f97940f81e996739fb7646882a419484c72d19e05852a7e"
  }
 },
 "nbformat": 4,
 "nbformat_minor": 2,
 "cells": [
  {
   "source": [
    "# Simulating Orbital Angular Momentum Laser Beams \n",
    "## _pyFSO: A Python Framework for Free-Space Optical Communications_\n",
    "### Joseph F. Vergel-Becerra¹² & Z. Paola Reyes-Quijano³\n",
    "\n",
    "¹***Grupo de Física Teórica y Matemática Aplicada, Instituto de Física, Universidad de Antioquia, Medellín, Colombia***\n",
    "\n",
    "²***guane enterprises, Medellín, Colombia***\n",
    "\n",
    "³***Grupo de Óptica y Tratamiento de Señales, Escuela de Física, Universidad de Industrial de Santander, Bucaramanga, Colombia***\n",
    "\n",
    "---\n",
    "\n",
    "*The orbital angular momentum (OAM) brought with it a special interest to characterize laser beams as a consequence of multiple applications such as encode information, free space communications, among others. Specifically, in the case of optical communications, the orbital angular momentum allowed for increasing the capacity of the communication systems in free space. This increment is rooted in the topological charge of the beams.*"
   ],
   "cell_type": "markdown",
   "metadata": {}
  },
  {
   "cell_type": "code",
   "execution_count": 2,
   "metadata": {},
   "outputs": [],
   "source": [
    "import os\n",
    "import numpy as np"
   ]
  },
  {
   "cell_type": "code",
   "execution_count": 3,
   "metadata": {},
   "outputs": [],
   "source": [
    "try:\n",
    "    import importlib\n",
    "\n",
    "    found = False\n",
    "    while found is False:\n",
    "        os.chdir(os.path.join(os.getcwd(), os.pardir))\n",
    "        found = bool(importlib.util.find_spec(\"pyfso\"))\n",
    "        continue\n",
    "except ModuleNotFoundError as e:\n",
    "    print(\"[ERROR] Verify WORKDIR execution: \", e)"
   ]
  },
  {
   "cell_type": "code",
   "execution_count": 4,
   "metadata": {},
   "outputs": [],
   "source": [
    "from pyfso.oam.bessel_gauss import BesselGauss"
   ]
  },
  {
   "cell_type": "code",
   "execution_count": 5,
   "metadata": {},
   "outputs": [
    {
     "output_type": "error",
     "ename": "SyntaxError",
     "evalue": "invalid syntax (<ipython-input-5-05b0e6d3e6b3>, line 2)",
     "traceback": [
      "\u001b[0;36m  File \u001b[0;32m\"<ipython-input-5-05b0e6d3e6b3>\"\u001b[0;36m, line \u001b[0;32m2\u001b[0m\n\u001b[0;31m    L =  #grid dimension\u001b[0m\n\u001b[0m         ^\u001b[0m\n\u001b[0;31mSyntaxError\u001b[0m\u001b[0;31m:\u001b[0m invalid syntax\n"
     ]
    }
   ],
   "source": [
    "Ndim = 200 #points\n",
    "L =  #grid dimension\n",
    "dl = L/Ndim #grid spacing \n",
    "m = 5 #OAM\n",
    "N = 7 # coefficients\n",
    "phi0 = np.pi\n",
    "wvl = 532e-9 # optical wavelength \n",
    "kvl = 2*np.pi/wvl # wave number\n",
    "Dz = 5 # propagation distance 0.8e4 a 15e4\n",
    "wo = (0.57e-3)/2 #beam weast\n",
    "A = 0.0252 # transmittnce\n",
    "z = 0"
   ]
  },
  {
   "cell_type": "code",
   "execution_count": 6,
   "metadata": {},
   "outputs": [],
   "source": [
    "params = {\n",
    "    'N': 200,\n",
    "    'L': 5e-3,\n",
    "    'lamb': 532e-9,\n",
    "    'm': 5,\n",
    "    'wo': (0.57e-3)/2,\n",
    "    'z': 0,\n",
    "}"
   ]
  },
  {
   "cell_type": "code",
   "execution_count": 8,
   "metadata": {},
   "outputs": [],
   "source": [
    "bgb = BesselGauss(**params)"
   ]
  },
  {
   "cell_type": "code",
   "execution_count": 9,
   "metadata": {},
   "outputs": [
    {
     "output_type": "error",
     "ename": "AttributeError",
     "evalue": "module 'scipy' has no attribute 'special'",
     "traceback": [
      "\u001b[0;31m---------------------------------------------------------------------------\u001b[0m",
      "\u001b[0;31mAttributeError\u001b[0m                            Traceback (most recent call last)",
      "\u001b[0;32m<ipython-input-9-e8b05858515a>\u001b[0m in \u001b[0;36m<module>\u001b[0;34m\u001b[0m\n\u001b[0;32m----> 1\u001b[0;31m \u001b[0mbgb\u001b[0m\u001b[0;34m.\u001b[0m\u001b[0mcreate\u001b[0m\u001b[0;34m(\u001b[0m\u001b[0;34m)\u001b[0m\u001b[0;34m\u001b[0m\u001b[0;34m\u001b[0m\u001b[0m\n\u001b[0m",
      "\u001b[0;32m~/Codes/my_projects/optics/pyfso/pyfso/oam/bessel_gauss.py\u001b[0m in \u001b[0;36mcreate\u001b[0;34m(self)\u001b[0m\n\u001b[1;32m     30\u001b[0m         \u001b[0mself\u001b[0m\u001b[0;34m.\u001b[0m\u001b[0mkt\u001b[0m \u001b[0;34m=\u001b[0m \u001b[0mself\u001b[0m\u001b[0;34m.\u001b[0m\u001b[0mk\u001b[0m\u001b[0;34m/\u001b[0m\u001b[0;36m500\u001b[0m\u001b[0;34m\u001b[0m\u001b[0;34m\u001b[0m\u001b[0m\n\u001b[1;32m     31\u001b[0m         self.E = np.multiply(\n\u001b[0;32m---> 32\u001b[0;31m             \u001b[0msp\u001b[0m\u001b[0;34m.\u001b[0m\u001b[0mspecial\u001b[0m\u001b[0;34m.\u001b[0m\u001b[0mjv\u001b[0m\u001b[0;34m(\u001b[0m\u001b[0mself\u001b[0m\u001b[0;34m.\u001b[0m\u001b[0mm\u001b[0m\u001b[0;34m,\u001b[0m \u001b[0mself\u001b[0m\u001b[0;34m.\u001b[0m\u001b[0mkt\u001b[0m\u001b[0;34m*\u001b[0m\u001b[0mself\u001b[0m\u001b[0;34m.\u001b[0m\u001b[0mrho\u001b[0m\u001b[0;34m)\u001b[0m\u001b[0;34m,\u001b[0m\u001b[0;34m\u001b[0m\u001b[0;34m\u001b[0m\u001b[0m\n\u001b[0m\u001b[1;32m     33\u001b[0m             np.multiply(np.exp(j*self.m*self.phi),\n\u001b[1;32m     34\u001b[0m             np.exp(np.multiply(-self.rho,self.rho)/(self.w**2)))\n",
      "\u001b[0;31mAttributeError\u001b[0m: module 'scipy' has no attribute 'special'"
     ]
    }
   ],
   "source": [
    "bgb.create()"
   ]
  },
  {
   "cell_type": "code",
   "execution_count": 8,
   "metadata": {},
   "outputs": [
    {
     "output_type": "error",
     "ename": "AttributeError",
     "evalue": "module 'scipy' has no attribute 'special'",
     "traceback": [
      "\u001b[0;31m---------------------------------------------------------------------------\u001b[0m",
      "\u001b[0;31mAttributeError\u001b[0m                            Traceback (most recent call last)",
      "\u001b[0;32m<ipython-input-8-933324a2affc>\u001b[0m in \u001b[0;36m<module>\u001b[0;34m\u001b[0m\n\u001b[0;32m----> 1\u001b[0;31m \u001b[0mWOAMV\u001b[0m \u001b[0;34m=\u001b[0m \u001b[0mbessel_gauss\u001b[0m\u001b[0;34m(\u001b[0m\u001b[0mNdim\u001b[0m\u001b[0;34m,\u001b[0m \u001b[0mdl\u001b[0m\u001b[0;34m,\u001b[0m \u001b[0mwvl\u001b[0m\u001b[0;34m,\u001b[0m \u001b[0;36m2\u001b[0m\u001b[0;34m,\u001b[0m \u001b[0mwo\u001b[0m\u001b[0;34m,\u001b[0m \u001b[0mz\u001b[0m\u001b[0;34m)\u001b[0m\u001b[0;34m\u001b[0m\u001b[0;34m\u001b[0m\u001b[0m\n\u001b[0m\u001b[1;32m      2\u001b[0m \u001b[0mI\u001b[0m \u001b[0;34m=\u001b[0m \u001b[0mnp\u001b[0m\u001b[0;34m.\u001b[0m\u001b[0mmultiply\u001b[0m\u001b[0;34m(\u001b[0m\u001b[0mWOAMV\u001b[0m\u001b[0;34m,\u001b[0m\u001b[0mnp\u001b[0m\u001b[0;34m.\u001b[0m\u001b[0mconj\u001b[0m\u001b[0;34m(\u001b[0m\u001b[0mWOAMV\u001b[0m\u001b[0;34m)\u001b[0m\u001b[0;34m)\u001b[0m\u001b[0;34m\u001b[0m\u001b[0;34m\u001b[0m\u001b[0m\n\u001b[1;32m      3\u001b[0m \u001b[0;34m\u001b[0m\u001b[0m\n\u001b[1;32m      4\u001b[0m \u001b[0mWOAMV2\u001b[0m \u001b[0;34m=\u001b[0m \u001b[0mbessel_gauss\u001b[0m\u001b[0;34m(\u001b[0m\u001b[0mNdim\u001b[0m\u001b[0;34m,\u001b[0m \u001b[0mdl\u001b[0m\u001b[0;34m,\u001b[0m \u001b[0mwvl\u001b[0m\u001b[0;34m,\u001b[0m \u001b[0;36m5\u001b[0m\u001b[0;34m,\u001b[0m \u001b[0mwo\u001b[0m\u001b[0;34m,\u001b[0m \u001b[0mz\u001b[0m\u001b[0;34m)\u001b[0m\u001b[0;34m\u001b[0m\u001b[0;34m\u001b[0m\u001b[0m\n\u001b[1;32m      5\u001b[0m \u001b[0mI2\u001b[0m \u001b[0;34m=\u001b[0m \u001b[0mnp\u001b[0m\u001b[0;34m.\u001b[0m\u001b[0mmultiply\u001b[0m\u001b[0;34m(\u001b[0m\u001b[0mWOAMV2\u001b[0m\u001b[0;34m,\u001b[0m \u001b[0mnp\u001b[0m\u001b[0;34m.\u001b[0m\u001b[0mconj\u001b[0m\u001b[0;34m(\u001b[0m\u001b[0mWOAMV2\u001b[0m\u001b[0;34m)\u001b[0m\u001b[0;34m)\u001b[0m\u001b[0;34m\u001b[0m\u001b[0;34m\u001b[0m\u001b[0m\n",
      "\u001b[0;32m~/Codes/my_projects/optics/pyfso/pyfso/oam/bessel_gauss.py\u001b[0m in \u001b[0;36mbessel_gauss\u001b[0;34m(N, dl, lamb, m, wo, z)\u001b[0m\n\u001b[1;32m     18\u001b[0m     \u001b[0mkt\u001b[0m \u001b[0;34m=\u001b[0m \u001b[0mk\u001b[0m\u001b[0;34m/\u001b[0m\u001b[0;36m500\u001b[0m\u001b[0;34m\u001b[0m\u001b[0;34m\u001b[0m\u001b[0m\n\u001b[1;32m     19\u001b[0m     E = np.multiply(\n\u001b[0;32m---> 20\u001b[0;31m         \u001b[0msp\u001b[0m\u001b[0;34m.\u001b[0m\u001b[0mspecial\u001b[0m\u001b[0;34m.\u001b[0m\u001b[0mjv\u001b[0m\u001b[0;34m(\u001b[0m\u001b[0mm\u001b[0m\u001b[0;34m,\u001b[0m\u001b[0mkt\u001b[0m\u001b[0;34m*\u001b[0m\u001b[0mrho\u001b[0m\u001b[0;34m)\u001b[0m\u001b[0;34m,\u001b[0m\u001b[0;34m\u001b[0m\u001b[0;34m\u001b[0m\u001b[0m\n\u001b[0m\u001b[1;32m     21\u001b[0m         np.multiply(np.exp(j*m*phi),\n\u001b[1;32m     22\u001b[0m         np.exp(np.multiply(-rho,rho)/(w**2)))\n",
      "\u001b[0;31mAttributeError\u001b[0m: module 'scipy' has no attribute 'special'"
     ]
    }
   ],
   "source": [
    "WOAMV = bessel_gauss(Ndim, dl, wvl, 2, wo, z)\n",
    "I = np.multiply(WOAMV, np.conj(WOAMV))\n",
    "\n",
    "WOAMV2 = bessel_gauss(Ndim, dl, wvl, 5, wo, z)\n",
    "I2 = np.multiply(WOAMV2, np.conj(WOAMV2))\n",
    "\n",
    "WOAMV3 = bessel_gauss(Ndim, dl, wvl, 7, wo, z)\n",
    "I3 = np.multiply(WOAMV3,np.conj(WOAMV3))"
   ]
  },
  {
   "cell_type": "code",
   "execution_count": null,
   "metadata": {},
   "outputs": [],
   "source": []
  }
 ]
}