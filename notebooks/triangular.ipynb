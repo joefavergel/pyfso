{
 "metadata": {
  "language_info": {
   "codemirror_mode": {
    "name": "ipython",
    "version": 3
   },
   "file_extension": ".py",
   "mimetype": "text/x-python",
   "name": "python",
   "nbconvert_exporter": "python",
   "pygments_lexer": "ipython3",
   "version": "3.9.2"
  },
  "orig_nbformat": 4,
  "kernelspec": {
   "name": "python3",
   "display_name": "Python 3.9.2 64-bit"
  },
  "interpreter": {
   "hash": "b0fa6594d8f4cbf19f97940f81e996739fb7646882a419484c72d19e05852a7e"
  }
 },
 "nbformat": 4,
 "nbformat_minor": 2,
 "cells": [
  {
   "source": [
    "# Diffraction of Bessel-Gauss Beams through Thin Films and Triangular Aperture\n",
    "### Joseph F. Vergel-Becerra¹² & Z. Paola Reyes-Quijano³\n",
    "\n",
    "¹***Grupo de Física Teórica y Matemática Aplicada, Instituto de Física, Universidad de Antioquia, Medellín, Colombia***\n",
    "\n",
    "²***guane enterprises, Medellín, Colombia***\n",
    "\n",
    "³***Grupo de Óptica y Tratamiento de Señales, Escuela de Física, Universidad de Industrial de Santander, Bucaramanga, Colombia***\n",
    "\n",
    "---\n",
    "\n",
    "*The Bessel-Gauss modes with the orbital angular momentum (OAM) brought with it a special interest to characterize these beams as a consequence of multiple applications such as encode information, free space communications, among others. In order to measure the OAM value, far field pattern of the OAM beam diffracted by triangular aperture is going to be observe.*"
   ],
   "cell_type": "markdown",
   "metadata": {}
  },
  {
   "cell_type": "code",
   "execution_count": 1,
   "metadata": {},
   "outputs": [
    {
     "output_type": "stream",
     "name": "stdout",
     "text": [
      "Hello world!\n"
     ]
    }
   ],
   "source": [
    "print(\"Hello world!\")"
   ]
  }
 ]
}